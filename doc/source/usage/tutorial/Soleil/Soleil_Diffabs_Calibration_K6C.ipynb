{
 "cells": [
  {
   "cell_type": "markdown",
   "metadata": {},
   "source": [
    "This tutorial is for the calibration of an Xpad_flat on the Soleil Diffabs Diffractometer.\n",
    "\n",
    "The calibration data is a scan on the delta motor with a CeO2 calibrant."
   ]
  },
  {
   "cell_type": "code",
   "execution_count": 1,
   "metadata": {
    "collapsed": false
   },
   "outputs": [],
   "source": [
    "# first the imports\n",
    "from typing import Iterator, List, NamedTuple, Text, Tuple\n",
    "\n",
    "import os\n",
    "import functools\n",
    "\n",
    "from collections import namedtuple\n",
    "\n",
    "import numpy\n",
    "import pylab\n",
    "import pyFAI\n",
    "\n",
    "from h5py import Dataset, File\n",
    "\n",
    "from pyFAI.gui import jupyter\n",
    "\n",
    "# local import\n",
    "from soleil import *"
   ]
  },
  {
   "cell_type": "code",
   "execution_count": 2,
   "metadata": {
    "collapsed": true
   },
   "outputs": [],
   "source": [
    "# temporary until the ruch is ON\n",
    "ROOT = os.path.join(\"/home\", \"experiences\", \"instrumentation\", \"picca\", \"data\", \"99160066\", \"2016\", \"Run2\")\n",
    "PUBLISHED = os.path.join(\"/home\", \"experiences\", \"instrumentation\", \"picca\", \"data\", \"99160066\", \"published-data\")"
   ]
  },
  {
   "cell_type": "code",
   "execution_count": 3,
   "metadata": {
    "collapsed": true
   },
   "outputs": [],
   "source": [
    "# here the integration with the previously generated calibration file.\n",
    "def integrate(json: str) -> None:\n",
    "    \"\"\"Integrate a file with a json calibration file\"\"\"\n",
    "    filename = os.path.join(ROOT, \"scan_77_01.nxs\")\n",
    "    gonio = pyFAI.goniometer.Goniometer.sload(json)\n",
    "    wavelength = 4.85945727522e-11\n",
    "    multicalib = MultiCalib(os.path.join(ROOT, \"scan_4_01.nxs\"),\n",
    "                            MetaDataSource(\"\",\n",
    "                                           H5PathContains(\"scan_data/actuator_1_1\"),\n",
    "                                           H5PathOptionalItemValue(\"MARS/D03-1-CX0__DT__DTC_2D-MT_Tz__#1/raw_value\", -1.0)),\n",
    "                            [], \"LaB6\", \"xpad_flat\", wavelength)\n",
    "\n",
    "    with h5py.File(filename, mode='r') as h5file:\n",
    "        images = []\n",
    "        positions = []\n",
    "        for metadata in gen_metadata(h5file, multicalib):\n",
    "            images.append(metadata.img)\n",
    "            positions.append((metadata.tx, metadata.tz))\n",
    "        mai = gonio.get_mg(positions)\n",
    "        res = mai.integrate1d(images, 10000)\n",
    "        jupyter.plot1d(res)\n",
    "        pylab.show()"
   ]
  },
  {
   "cell_type": "code",
   "execution_count": 4,
   "metadata": {
    "collapsed": true
   },
   "outputs": [],
   "source": [
    "# save all the ref as images in order to do the calibration with\n",
    "# pyFAI-calib[2].\n",
    "\n",
    "def ExportEdf(params: Calibration):\n",
    "    save_as_edf(params, PUBLISHED)"
   ]
  },
  {
   "cell_type": "code",
   "execution_count": 5,
   "metadata": {
    "collapsed": false
   },
   "outputs": [
    {
     "name": "stdout",
     "output_type": "stream",
     "text": [
      "Empty refinement object:\n",
      "GoniometerRefinement with 0 geometries labeled: .\n"
     ]
    },
    {
     "ename": "AttributeError",
     "evalue": "'function' object has no attribute 'images_path'",
     "output_type": "error",
     "traceback": [
      "\u001b[0;31m---------------------------------------------------------------------------\u001b[0m",
      "\u001b[0;31mAttributeError\u001b[0m                            Traceback (most recent call last)",
      "\u001b[0;32m<ipython-input-5-a80f7595fcaa>\u001b[0m in \u001b[0;36m<module>\u001b[0;34m()\u001b[0m\n\u001b[1;32m     29\u001b[0m                     )\n\u001b[1;32m     30\u001b[0m \u001b[0;34m\u001b[0m\u001b[0m\n\u001b[0;32m---> 31\u001b[0;31m \u001b[0mcalibration\u001b[0m\u001b[0;34m(\u001b[0m\u001b[0mjson\u001b[0m\u001b[0;34m,\u001b[0m \u001b[0mparams\u001b[0m\u001b[0;34m)\u001b[0m\u001b[0;34m\u001b[0m\u001b[0m\n\u001b[0m",
      "\u001b[0;32m/home/experiences/instrumentation/picca/pyFAI/doc/source/usage/tutorial/Soleil/soleil.py\u001b[0m in \u001b[0;36mcalibration\u001b[0;34m(json, params)\u001b[0m\n\u001b[1;32m    213\u001b[0m \u001b[0;34m\u001b[0m\u001b[0m\n\u001b[1;32m    214\u001b[0m     \u001b[0;32mwith\u001b[0m \u001b[0mFile\u001b[0m\u001b[0;34m(\u001b[0m\u001b[0mparams\u001b[0m\u001b[0;34m.\u001b[0m\u001b[0mfilename\u001b[0m\u001b[0;34m,\u001b[0m \u001b[0mmode\u001b[0m\u001b[0;34m=\u001b[0m\u001b[0;34m'r'\u001b[0m\u001b[0;34m)\u001b[0m \u001b[0;32mas\u001b[0m \u001b[0mh5file\u001b[0m\u001b[0;34m:\u001b[0m\u001b[0;34m\u001b[0m\u001b[0m\n\u001b[0;32m--> 215\u001b[0;31m         \u001b[0;32mfor\u001b[0m \u001b[0mframe\u001b[0m \u001b[0;32min\u001b[0m \u001b[0mgen_metadata_idx\u001b[0m\u001b[0;34m(\u001b[0m\u001b[0mh5file\u001b[0m\u001b[0;34m,\u001b[0m \u001b[0mcalibration\u001b[0m\u001b[0;34m)\u001b[0m\u001b[0;34m:\u001b[0m\u001b[0;34m\u001b[0m\u001b[0m\n\u001b[0m\u001b[1;32m    216\u001b[0m             \u001b[0mbase\u001b[0m \u001b[0;34m=\u001b[0m \u001b[0mos\u001b[0m\u001b[0;34m.\u001b[0m\u001b[0mpath\u001b[0m\u001b[0;34m.\u001b[0m\u001b[0msplitext\u001b[0m\u001b[0;34m(\u001b[0m\u001b[0mos\u001b[0m\u001b[0;34m.\u001b[0m\u001b[0mpath\u001b[0m\u001b[0;34m.\u001b[0m\u001b[0mbasename\u001b[0m\u001b[0;34m(\u001b[0m\u001b[0mparams\u001b[0m\u001b[0;34m.\u001b[0m\u001b[0mfilename\u001b[0m\u001b[0;34m)\u001b[0m\u001b[0;34m)\u001b[0m\u001b[0;34m[\u001b[0m\u001b[0;36m0\u001b[0m\u001b[0;34m]\u001b[0m\u001b[0;34m\u001b[0m\u001b[0m\n\u001b[1;32m    217\u001b[0m \u001b[0;34m\u001b[0m\u001b[0m\n",
      "\u001b[0;32m/home/experiences/instrumentation/picca/pyFAI/doc/source/usage/tutorial/Soleil/soleil.py\u001b[0m in \u001b[0;36mgen_metadata_idx\u001b[0;34m(h5file, calibration)\u001b[0m\n\u001b[1;32m     97\u001b[0m def gen_metadata_idx(h5file: File,\n\u001b[1;32m     98\u001b[0m                      calibration: Calibration) -> Iterator[CalibrationFrame]:\n\u001b[0;32m---> 99\u001b[0;31m     \u001b[0mimages\u001b[0m \u001b[0;34m=\u001b[0m \u001b[0mget_dataset\u001b[0m\u001b[0;34m(\u001b[0m\u001b[0mh5file\u001b[0m\u001b[0;34m,\u001b[0m \u001b[0mcalibration\u001b[0m\u001b[0;34m.\u001b[0m\u001b[0mimages_path\u001b[0m\u001b[0;34m)\u001b[0m\u001b[0;34m\u001b[0m\u001b[0m\n\u001b[0m\u001b[1;32m    100\u001b[0m     \u001b[0mdeltas\u001b[0m \u001b[0;34m=\u001b[0m \u001b[0mget_dataset\u001b[0m\u001b[0;34m(\u001b[0m\u001b[0mh5file\u001b[0m\u001b[0;34m,\u001b[0m \u001b[0mcalibration\u001b[0m\u001b[0;34m.\u001b[0m\u001b[0mdeltas_path\u001b[0m\u001b[0;34m)\u001b[0m\u001b[0;34m\u001b[0m\u001b[0m\n\u001b[1;32m    101\u001b[0m     \u001b[0;32mfor\u001b[0m \u001b[0midx\u001b[0m \u001b[0;32min\u001b[0m \u001b[0mcalibration\u001b[0m\u001b[0;34m.\u001b[0m\u001b[0midxs\u001b[0m\u001b[0;34m:\u001b[0m\u001b[0;34m\u001b[0m\u001b[0m\n",
      "\u001b[0;31mAttributeError\u001b[0m: 'function' object has no attribute 'images_path'"
     ]
    }
   ],
   "source": [
    "# do the calibration\n",
    "json = os.path.join(PUBLISHED, \"calibration\", \"calibration.json\")\n",
    "\n",
    "distance = Length(0.258705917299)\n",
    "poni1_scale = 0.001\n",
    "poni1_offset = Length(0.132825374721)\n",
    "poni2_scale = 0.0012272727272727272\n",
    "poni2_offset = Length(-0.9488181818181818)\n",
    "rot1 = Angle(0.00388272369359)\n",
    "rot2 = Angle(-0.00942588451226)\n",
    "rot3 = Angle(7.19961198098e-07)\n",
    "\n",
    "params = Calibration(os.path.join(PUBLISHED, \"calibration\", \"XRD18keV_26.nxs\"),\n",
    "                     DatasetPathWithAttribute(\"interpretation\", b\"image\"),\n",
    "                     DatasetPathContains(\"scan_data/actuator_1_1\"),\n",
    "                     [2, 5, 8],\n",
    "                     Calibrant(\"CeO2\"),\n",
    "                     Detector(\"Xpad_flat\"),\n",
    "                     Wavelength(6.8877e-11),\n",
    "                     CalibrationParameters(Parameter[Length](\"dist\", distance, (distance, distance)),\n",
    "                                           Parameter[Length](\"poni1_offset\", poni1_offset, (0, 0.2)),\n",
    "                                           Parameter[float](\"poni1_scale\", poni1_scale, (0, 0.002)),\n",
    "                                           Parameter[Length](\"poni2_offset\", poni2_offset, (-1, -0.7)),\n",
    "                                           Parameter[float](\"poni2_scale\", poni2_scale, (-1, 1)),\n",
    "                                           Parameter[Angle](\"rot1\", rot1, (rot1, rot1)),\n",
    "                                           Parameter[Angle](\"rot2\", rot2, (rot2, rot2)),\n",
    "                                           Parameter[Angle](\"rot3\", rot3, (rot3, rot3))\n",
    "                                          )\n",
    "                    )\n",
    "\n",
    "calibration(json, params)"
   ]
  },
  {
   "cell_type": "code",
   "execution_count": null,
   "metadata": {
    "collapsed": false
   },
   "outputs": [],
   "source": []
  },
  {
   "cell_type": "code",
   "execution_count": null,
   "metadata": {
    "collapsed": true
   },
   "outputs": [],
   "source": []
  }
 ],
 "metadata": {
  "kernelspec": {
   "display_name": "Python 3",
   "language": "python",
   "name": "python3"
  },
  "language_info": {
   "codemirror_mode": {
    "name": "ipython",
    "version": 3
   },
   "file_extension": ".py",
   "mimetype": "text/x-python",
   "name": "python",
   "nbconvert_exporter": "python",
   "pygments_lexer": "ipython3",
   "version": "3.5.3"
  }
 },
 "nbformat": 4,
 "nbformat_minor": 2
}

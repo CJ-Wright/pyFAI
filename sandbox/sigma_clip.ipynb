{
 "metadata": {
  "name": "",
  "signature": "sha256:ee2b4274c1c0e3a8558ecdbb6eeb5d12a7b98be6a7a767f6aa5b108bcc44ea89"
 },
 "nbformat": 3,
 "nbformat_minor": 0,
 "worksheets": [
  {
   "cells": [
    {
     "cell_type": "code",
     "collapsed": false,
     "input": [
      "%pylab nbagg"
     ],
     "language": "python",
     "metadata": {},
     "outputs": [
      {
       "output_type": "stream",
       "stream": "stdout",
       "text": [
        "Populating the interactive namespace from numpy and matplotlib\n"
       ]
      }
     ],
     "prompt_number": 1
    },
    {
     "cell_type": "code",
     "collapsed": false,
     "input": [
      "import os\n",
      "#os.environ[\"PYOPENCL_CTX\"] = \"0:1\"\n",
      "os.environ[\"PYOPENCL_COMPILER_OUTPUT\"]=\"1\""
     ],
     "language": "python",
     "metadata": {},
     "outputs": [],
     "prompt_number": 2
    },
    {
     "cell_type": "code",
     "collapsed": false,
     "input": [
      "import pyopencl,numpy\n",
      "from pyopencl import array\n",
      "shape=1024,1024\n",
      "ctx=pyopencl.create_some_context()\n",
      "queue=pyopencl.CommandQueue(ctx, properties=pyopencl.command_queue_properties.PROFILING_ENABLE)\n",
      "data=numpy.exp(20*numpy.random.random(shape)**2)\n",
      "x = numpy.random.randint(0, shape[1], size=10*shape[1])\n",
      "y = numpy.random.randint(0, shape[0], size=10*shape[0])\n",
      "data[x,y] = numpy.NaN\n",
      "datag=array.to_device(queue, data.astype(\"float32\"))\n",
      "prg=pyopencl.Program(ctx, open(\"../pyFAI/resources/openCL/sigma_clip.cl\").read()).build();\n",
      "m=array.empty(queue,1024,\"float32\");\n",
      "d=array.empty(queue,1024,\"float32\");\n",
      "ws=shape[0]//8;\n",
      "local_mem = pyopencl.LocalMemory(ws * 20);\n",
      "print(abs(numpy.nanmean(data, dtype=\"float32\",axis=0)-numpy.nanmean(data, dtype=\"float64\",axis=0)).max(),\n",
      "      abs(numpy.nanmean(data, dtype=\"float32\",axis=-1)-numpy.nanmean(data, dtype=\"float64\",axis=-1)).max(),\n",
      "      abs(numpy.nanstd(data, dtype=\"float32\",axis=0)-numpy.nanstd(data, dtype=\"float64\",axis=0)).max(), \n",
      "      abs(numpy.nanstd(data, dtype=\"float32\",axis=-1)-numpy.nanstd(data, dtype=\"float64\",axis=-1)).max())\n"
     ],
     "language": "python",
     "metadata": {},
     "outputs": [
      {
       "output_type": "stream",
       "stream": "stdout",
       "text": [
        "(28.728751592338085, 26.726901203393936, 297.40848155319691, 351.14167270064354)\n"
       ]
      },
      {
       "output_type": "stream",
       "stream": "stderr",
       "text": [
        "/usr/lib/python2.7/dist-packages/pkg_resources/__init__.py:1869: UserWarning: /usr/lib/pymodules/python2.7/rpl-1.5.5.egg-info could not be properly decoded in UTF-8\n",
        "  warnings.warn(msg)\n"
       ]
      }
     ],
     "prompt_number": 3
    },
    {
     "cell_type": "code",
     "collapsed": false,
     "input": [
      "e=prg.mean_std_horizontal(queue, (1024, 1024//8), (1, 1024//8), datag.data, m.data, d.data, numpy.float32(-1), local_mem); \n",
      "print(abs(numpy.nanmean(data, axis=1, dtype=\"float64\")-m.get()).max(), abs(numpy.nanstd(data, axis=1, dtype=\"float64\")-d.get()).max())\n",
      "print(1e-6 * (e.profile.end - e.profile.start),\"ms\")\n",
      "print(m)\n",
      "print(d)"
     ],
     "language": "python",
     "metadata": {},
     "outputs": [
      {
       "output_type": "stream",
       "stream": "stdout",
       "text": [
        "(2.513061348348856, 9.6695284992456436)\n",
        "(0.10793599999999999, 'ms')\n",
        "[ 10348128.  13545123.  11760920. ...,  12783632.  14725695.  10885510.]\n",
        "[ 42296508.  55666016.  53756112. ...,  50990852.  60189128.  48475708.]\n"
       ]
      }
     ],
     "prompt_number": 4
    },
    {
     "cell_type": "code",
     "collapsed": false,
     "input": [
      "e = prg.mean_std_vertical(queue, (1024//8, 1024), (1024//8, 1), datag.data, m.data, d.data, numpy.float32(-1), local_mem)\n",
      "print(abs(numpy.nanmean(data, axis=0, dtype=\"float64\")-m.get()).max(),abs(numpy.nanstd(data, axis=0, dtype=\"float64\")-d.get()).max())\n",
      "print(1e-6 * (e.profile.end - e.profile.start),\"ms\")\n",
      "print(m)\n",
      "print(d)"
     ],
     "language": "python",
     "metadata": {},
     "outputs": [
      {
       "output_type": "stream",
       "stream": "stdout",
       "text": [
        "(2.2166459262371063, 8.8601456508040428)\n",
        "(0.231424, 'ms')\n",
        "[ 12811988.  12865702.  14459896. ...,  13215102.  13459257.  10421705.]\n",
        "[ 55406272.  55741484.  59947936. ...,  56709692.  54553940.  49140232.]\n"
       ]
      }
     ],
     "prompt_number": 5
    },
    {
     "cell_type": "code",
     "collapsed": false,
     "input": [
      "import warnings\n",
      "as_strided = numpy.lib.stride_tricks.as_strided\n",
      "\n",
      "def sigma_clip(image, sigma_lo=3, sigma_hi=3, max_iter=5, axis=0):\n",
      "    image=image.copy()\n",
      "    mask = numpy.logical_not(numpy.isfinite(image))\n",
      "    dummies = mask.sum()\n",
      "    image[mask] = numpy.NaN\n",
      "    mean = numpy.nanmean(image, axis=axis)\n",
      "    std = numpy.nanstd(image, axis=axis)\n",
      "    for i in range(max_iter):\n",
      "        if axis==0:\n",
      "            mean2d = as_strided(mean, image.shape, (0, mean.strides[0]))\n",
      "            std2d = as_strided(std, image.shape, (0, std.strides[0]))\n",
      "        else:\n",
      "            mean2d = as_strided(mean, image.shape, (mean.strides[0], 0))\n",
      "            std2d = as_strided(std, image.shape, (std.strides[0], 0))\n",
      "        with warnings.catch_warnings():\n",
      "           warnings.simplefilter(\"ignore\")\n",
      "           delta = (image - mean2d) / std2d\n",
      "           mask = numpy.logical_or(delta > sigma_hi,\n",
      "                                   delta < -sigma_lo)\n",
      "        dummies = mask.sum()\n",
      "        if dummies == 0:\n",
      "            break\n",
      "        image[mask] = numpy.NaN\n",
      "        mean = numpy.nanmean(image, axis=axis)\n",
      "        std = numpy.nanstd(image, axis=axis)\n",
      "    return mean, std"
     ],
     "language": "python",
     "metadata": {},
     "outputs": [],
     "prompt_number": 6
    },
    {
     "cell_type": "code",
     "collapsed": false,
     "input": [
      "#work on the vertical direction\n",
      "%timeit sigma_clip(data, max_iter=5)\n",
      "mean_n, std_n = sigma_clip(data, max_iter=5)\n",
      "print(mean_n)\n",
      "print(std_n)"
     ],
     "language": "python",
     "metadata": {},
     "outputs": [
      {
       "output_type": "stream",
       "stream": "stdout",
       "text": [
        "10 loops, best of 3: 118 ms per loop\n",
        "[ 151464.93632614   83344.77031792  122071.35650981 ...,   91253.66510908\n",
        "  150517.66949098   84924.98278571]"
       ]
      },
      {
       "output_type": "stream",
       "stream": "stdout",
       "text": [
        "\n",
        "[ 554301.69900838  296181.49319233  473530.92325568 ...,  341824.79287212\n",
        "  563211.22543146  326982.60573691]\n"
       ]
      }
     ],
     "prompt_number": 7
    },
    {
     "cell_type": "code",
     "collapsed": false,
     "input": [
      "e = prg.sigma_clip_vertical(queue, (1024//8, 1024), (1024//8, 1), \n",
      "                            datag.data, m.data, d.data, \n",
      "                            numpy.float32(-1), numpy.float32(3.0), numpy.float32(3.0), numpy.int32(5), local_mem)\n",
      "e.wait()\n",
      "#print(abs(data.mean(axis=0, dtype=\"float64\")-m.get()).max(),abs(data.std(axis=0, dtype=\"float64\")-d.get()).max())\n",
      "print(1e-6 * (e.profile.end - e.profile.start),\"ms\")\n",
      "print(m)\n",
      "print(d)\n",
      "print(\"error:\", abs(mean_n-m.get()).max(),abs(std_n-d.get()).max())\n"
     ],
     "language": "python",
     "metadata": {},
     "outputs": [
      {
       "output_type": "stream",
       "stream": "stdout",
       "text": [
        "(0.51456, 'ms')\n",
        "[ 151464.9375      83344.7734375  122071.359375  ...,   91253.671875\n",
        "  150517.671875    84924.9921875]\n",
        "[ 554301.6875  296181.5     473530.9375 ...,  341824.8125  563211.1875\n",
        "  326982.625 ]\n",
        "('error:', 0.033088991709519178, 0.089480994851328433)\n"
       ]
      }
     ],
     "prompt_number": 8
    },
    {
     "cell_type": "code",
     "collapsed": false,
     "input": [
      "print(\"Vertical speed-up\", 113/(1e-6 * (e.profile.end - e.profile.start)))"
     ],
     "language": "python",
     "metadata": {},
     "outputs": [
      {
       "output_type": "stream",
       "stream": "stdout",
       "text": [
        "('Vertical speed-up', 219.60509950248755)\n"
       ]
      }
     ],
     "prompt_number": 9
    },
    {
     "cell_type": "code",
     "collapsed": false,
     "input": [
      "#work on the horizontal direction\n",
      "%timeit sigma_clip(data, max_iter=5, axis=1)\n",
      "mean_n, std_n = sigma_clip(data, max_iter=5, axis=1)\n",
      "print(mean_n)\n",
      "print(std_n)"
     ],
     "language": "python",
     "metadata": {},
     "outputs": [
      {
       "output_type": "stream",
       "stream": "stdout",
       "text": [
        "10 loops, best of 3: 126 ms per loop\n",
        "[  84346.69123407   72289.64923153  154412.39061964 ...,   95972.72402467\n",
        "  117058.1527053    86333.57583907]"
       ]
      },
      {
       "output_type": "stream",
       "stream": "stdout",
       "text": [
        "\n",
        "[ 325783.84358778  269176.83477754  512926.17674625 ...,  331733.72586682\n",
        "  402301.12273161  304262.8250737 ]\n"
       ]
      }
     ],
     "prompt_number": 10
    },
    {
     "cell_type": "code",
     "collapsed": false,
     "input": [
      "e = prg.sigma_clip_horizontal(queue, (1024, 1024//8), (1, 1024//8), \n",
      "                            datag.data, m.data, d.data, \n",
      "                            numpy.float32(-1), numpy.float32(3.0), numpy.float32(3.0), numpy.int32(5), local_mem)\n",
      "e.wait()\n",
      "print(1e-6 * (e.profile.end - e.profile.start),\"ms\")\n",
      "print(m)\n",
      "print(d)\n",
      "print(\"error:\", abs(mean_n-m.get()).max(),abs(std_n-d.get()).max())\n"
     ],
     "language": "python",
     "metadata": {},
     "outputs": [
      {
       "output_type": "stream",
       "stream": "stdout",
       "text": [
        "(0.42025599999999996, 'ms')\n",
        "[  84346.703125    72289.6484375  154412.40625   ...,   95972.7265625\n",
        "  117058.1484375   86333.5703125]\n",
        "[ 325783.84375  269176.84375  512926.15625 ...,  331733.71875  402301.125\n",
        "  304262.84375]\n",
        "('error:', 0.030962686898419634, 0.092475969810038805)\n"
       ]
      }
     ],
     "prompt_number": 11
    },
    {
     "cell_type": "code",
     "collapsed": false,
     "input": [
      "print(\"Horizontal speed-up\", 124/(1e-6 * (e.profile.end - e.profile.start)))"
     ],
     "language": "python",
     "metadata": {},
     "outputs": [
      {
       "output_type": "stream",
       "stream": "stdout",
       "text": [
        "('Horizontal speed-up', 295.0582502093962)\n"
       ]
      }
     ],
     "prompt_number": 12
    },
    {
     "cell_type": "code",
     "collapsed": false,
     "input": [
      "%%timeit \n",
      "prg.sigma_clip_horizontal(queue, (1024, 1024//8), (1, 1024//8), \n",
      "                            datag.data, m.data, d.data, \n",
      "                            numpy.float32(-1), numpy.float32(3.0), numpy.float32(3.0), numpy.int32(5), local_mem).wait()"
     ],
     "language": "python",
     "metadata": {},
     "outputs": [
      {
       "output_type": "stream",
       "stream": "stdout",
       "text": [
        "1000 loops, best of 3: 453 \u00b5s per loop\n"
       ]
      }
     ],
     "prompt_number": 13
    },
    {
     "cell_type": "code",
     "collapsed": false,
     "input": [
      "%%timeit \n",
      "prg.sigma_clip_vertical(queue, (1024//8, 1024), (1024//8, 1), \n",
      "                            datag.data, m.data, d.data, \n",
      "                            numpy.float32(-1), numpy.float32(3.0), numpy.float32(3.0), numpy.int32(5), local_mem).wait()"
     ],
     "language": "python",
     "metadata": {},
     "outputs": [
      {
       "output_type": "stream",
       "stream": "stdout",
       "text": [
        "1000 loops, best of 3: 546 \u00b5s per loop\n"
       ]
      }
     ],
     "prompt_number": 14
    },
    {
     "cell_type": "code",
     "collapsed": false,
     "input": [],
     "language": "python",
     "metadata": {},
     "outputs": [],
     "prompt_number": 14
    }
   ],
   "metadata": {}
  }
 ]
}